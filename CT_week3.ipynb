{
 "cells": [
  {
   "cell_type": "markdown",
   "id": "e0257dd3",
   "metadata": {},
   "source": [
    "# bai 1"
   ]
  },
  {
   "cell_type": "code",
   "execution_count": null,
   "id": "c1f7accb",
   "metadata": {},
   "outputs": [
    {
     "name": "stdout",
     "output_type": "stream",
     "text": [
      "43\n"
     ]
    }
   ],
   "source": [
    "#Viết một chương trình nhập vào một số nguyên n và in ra các chữ số đảo ngược nhau.\n",
    "n = int(input(\"nhap so nguyen n\"))\n",
    "n_nguoc=str(n)[::-1]\n",
    "print(n_nguoc)\n"
   ]
  },
  {
   "cell_type": "markdown",
   "id": "b14ef8dd",
   "metadata": {},
   "source": [
    "# bai 2"
   ]
  },
  {
   "cell_type": "code",
   "execution_count": null,
   "id": "6c3845dc",
   "metadata": {},
   "outputs": [
    {
     "name": "stdout",
     "output_type": "stream",
     "text": [
      "before:\n",
      "a=3 and b=5\n",
      "after\n",
      "a=5 and b=3\n"
     ]
    }
   ],
   "source": [
    "#Hoán đổi hai số không sd biến tạm thời,Sử dụng phép toán XOR bitwise để hoán đổi giá trị của hai biến.\n",
    "a,b = map(int,input().split(' '))\n",
    "a=a^b\n",
    "b=b^a\n",
    "a=b^a\n",
    "print(f'{a} {b}')\n"
   ]
  },
  {
   "cell_type": "markdown",
   "id": "a3ee5d29",
   "metadata": {},
   "source": [
    "# bai 3"
   ]
  },
  {
   "cell_type": "code",
   "execution_count": 13,
   "id": "e0f64495",
   "metadata": {},
   "outputs": [
    {
     "name": "stdout",
     "output_type": "stream",
     "text": [
      "True\n"
     ]
    }
   ],
   "source": [
    "'''Kiểm tra xem một số có phải là lũy thừa của 2 hay không\n",
    "Sử dụng các toán tử bitwise để xác định xem một số có phải là lũy thừa của 2 hay không.\n",
    "Gợi ý: Đối với lũy thừa của 2, n & (n-1) == 0\n",
    "'''\n",
    "n=int(input('nhap mot so:'))\n",
    "if (n & (n-1) == 0):\n",
    "    print('True')\n",
    "else:\n",
    "    print('False')"
   ]
  },
  {
   "cell_type": "markdown",
   "id": "05bfb39a",
   "metadata": {},
   "source": [
    "# bai 4"
   ]
  },
  {
   "cell_type": "code",
   "execution_count": 22,
   "id": "cc783f0a",
   "metadata": {},
   "outputs": [
    {
     "name": "stdout",
     "output_type": "stream",
     "text": [
      "9\n"
     ]
    }
   ],
   "source": [
    "''' viêt chương trình chia một số m cho n, kết quả thu được làm tròn xuống'''\n",
    "m,n= map(int,input().split(' '))\n",
    "print(int(m/n))"
   ]
  },
  {
   "cell_type": "markdown",
   "id": "e96785c9",
   "metadata": {},
   "source": [
    "# bai 5"
   ]
  },
  {
   "cell_type": "code",
   "execution_count": 23,
   "id": "06672b9d",
   "metadata": {},
   "outputs": [
    {
     "name": "stdout",
     "output_type": "stream",
     "text": [
      "10\n"
     ]
    }
   ],
   "source": [
    "'''viêt chương trình chia một số m cho n, kết quả thu được làm tròn lên'''\n",
    "m,n= map(int,input().split(' '))\n",
    "print(round(m/n))"
   ]
  },
  {
   "cell_type": "markdown",
   "id": "50e0a27b",
   "metadata": {},
   "source": [
    "# bai 6"
   ]
  },
  {
   "cell_type": "code",
   "execution_count": null,
   "id": "e9823e61",
   "metadata": {},
   "outputs": [],
   "source": [
    "'''[Even and Odd]\n",
    "Nhập vào một số nguyên dương x, bạn hãy kiểm tra xem x là số chẵn hay lẻ. Nếu x là số chẵn, in ra\n",
    "\"Even\". Nếu x là số lẻ, in ra \"Odd\"'''\n",
    "x=int('nhap so nguyen duong x')\n",
    "if x%2==0:\n",
    "    print('Even')\n",
    "else:\n",
    "    print(\"Odd\")"
   ]
  },
  {
   "cell_type": "markdown",
   "id": "5a15d37c",
   "metadata": {},
   "source": [
    "# bai 7"
   ]
  },
  {
   "cell_type": "code",
   "execution_count": null,
   "id": "ab4c7d63",
   "metadata": {},
   "outputs": [],
   "source": [
    "'''[Check negative numbers]\n",
    "Nhập vào hai số nguyên a, b. Nếu cả hai số a, b đều âm thì in ra \"Yes\", ngược lại in ra \"No\".'''\n",
    "a=int(input('nhap so a'))\n",
    "b=int(input('nhap so b'))\n",
    "if (a<0) and (b<0):\n",
    "    print('Yes')\n",
    "else:\n",
    "    print('No')"
   ]
  },
  {
   "cell_type": "markdown",
   "id": "15d828a3",
   "metadata": {},
   "source": [
    "# bai 8"
   ]
  },
  {
   "cell_type": "code",
   "execution_count": null,
   "id": "78c5d17a",
   "metadata": {},
   "outputs": [],
   "source": [
    "'''[Longer string]\n",
    "Nhập vào hai chuỗi a, b gồm các chữ cái thường. In ra \"True\" nếu chuỗi a dài hơn chuỗi b. Ngược\n",
    "lại in ra \"False\".\n",
    "'''\n",
    "a=input('nhap chuoi a')\n",
    "b=input('nhap chuoi b')\n",
    "if len(a) > len(b):\n",
    "    print('True')\n",
    "else:\n",
    "    print('False')"
   ]
  },
  {
   "cell_type": "markdown",
   "id": "80ef7cd8",
   "metadata": {},
   "source": [
    "# bai 9"
   ]
  },
  {
   "cell_type": "code",
   "execution_count": null,
   "id": "8184aa78",
   "metadata": {},
   "outputs": [
    {
     "name": "stdout",
     "output_type": "stream",
     "text": [
      "Yes\n"
     ]
    }
   ],
   "source": [
    "'''[Triangle]\n",
    "Nhập vào 3 số nguyên dương a, b, c. Kiểm tra xem a, b, c có cấu thành độ dài cạnh của 1 tam giác\n",
    "được không. Nếu a, b, c cấu tạo thành được một tam giác, in ra \"Yes\". Ngược lại in ra \"No\".'''\n",
    "a=int(input('nhap so nguyen duong a'))\n",
    "b=int(input('nhap so nguyen duong b'))\n",
    "c=int(input('nhap so nguyen duong c'))\n",
    "if (a+b>c) and (a+c>b) and (b+c>a):\n",
    "    print('Yes')\n",
    "else:\n",
    "    print('No')    "
   ]
  },
  {
   "cell_type": "markdown",
   "id": "56e7bcf5",
   "metadata": {},
   "source": [
    "# bai 10"
   ]
  },
  {
   "cell_type": "code",
   "execution_count": 36,
   "id": "84b81af5",
   "metadata": {},
   "outputs": [
    {
     "name": "stdout",
     "output_type": "stream",
     "text": [
      "9\n"
     ]
    }
   ],
   "source": [
    "'''[Largest number]\n",
    "Nhập vào 4 số nguyên. In ra màn hình số nguyên lớn nhất trong 4 số.\n",
    "'''\n",
    "n=0\n",
    "tap_so=[]\n",
    "while n <4:\n",
    "    a=int(input('nhap so'))\n",
    "    tap_so.append(a)\n",
    "    n+=1\n",
    "for i in range(4):\n",
    "    if i==0:\n",
    "        max=tap_so[i]\n",
    "        continue\n",
    "    if max < tap_so[i]:\n",
    "        max=tap_so[i]\n",
    "print(max)\n"
   ]
  },
  {
   "cell_type": "markdown",
   "id": "7cb1fe9e",
   "metadata": {},
   "source": [
    "# bai 11"
   ]
  },
  {
   "cell_type": "code",
   "execution_count": 40,
   "id": "6a0d08c0",
   "metadata": {},
   "outputs": [
    {
     "name": "stdout",
     "output_type": "stream",
     "text": [
      "Không phải tam giác\n"
     ]
    }
   ],
   "source": [
    "'''[Phân loại tam giác]\n",
    "Nhập vào 3 số nguyên dương a,b,c là độ dài 3 cạnh của một tam giác. Kiểm tra 3 số đã nhập có tạo thành\n",
    "một tam giác hợp lệ hay không. Nếu không in ra \"Không phải tam giác\". Nếu có, phân loại tam giác đó là\n",
    "\"Tam giác đều\", \"Tam giác cân\", hay \"Tam giác thường\".\n",
    "'''\n",
    "a,b,c=map(int,input().split(' '))\n",
    "if (a+b>c) and (a+c>b) and (b+c>a):\n",
    "    if (a==b!=c) or (a==c!=b) or (b==c!=a):\n",
    "        print('Tam giác cân')\n",
    "    elif a==b==c:\n",
    "        print('Tam giác đều')\n",
    "    else:\n",
    "        print('Tam giác thường')\n",
    "else:\n",
    "    print('Không phải tam giác')\n"
   ]
  },
  {
   "cell_type": "markdown",
   "id": "296eaf0a",
   "metadata": {},
   "source": [
    "# bai 12"
   ]
  },
  {
   "cell_type": "code",
   "execution_count": 43,
   "id": "a413f98d",
   "metadata": {},
   "outputs": [
    {
     "name": "stdout",
     "output_type": "stream",
     "text": [
      "No\n"
     ]
    }
   ],
   "source": [
    "'''[Kiểm tra năm nhuận]\n",
    "Nhập vào một số nguyên dương n là số năm, kiểm tra xem năm đó có phải là năm nhuận hay không. Năm\n",
    "nhuận là năm chia hết cho 4 nhưng không chia hết cho 100, hoặc chia hết cho 400. Nếu là năm nhuận in ra\n",
    "\"Yes\", nếu không in ra \"No\"'''\n",
    "nam=int(input('nhap so nam:'))\n",
    "if (nam%4==0 and nam%100!=0) or (nam%400==0):\n",
    "    print('Yes')\n",
    "else:\n",
    "    print('No')"
   ]
  },
  {
   "cell_type": "markdown",
   "id": "e9363315",
   "metadata": {},
   "source": [
    "# bai 13"
   ]
  },
  {
   "cell_type": "code",
   "execution_count": 48,
   "id": "9f9d33de",
   "metadata": {},
   "outputs": [
    {
     "name": "stdout",
     "output_type": "stream",
     "text": [
      "175000\n"
     ]
    }
   ],
   "source": [
    "'''[Tính tiền điện]\n",
    "Nhập vào số kWh điện tiêu thụ. Tính tiền điện theo các bậc sau:\n",
    "- 0-50 kWh: 1500đ/kWh\n",
    "- 51-100 kWh: 2000đ/kWh\n",
    "- 100 kWh: 3000đ/kWh\n",
    "'''\n",
    "dien=int(input('nhap so kWh'))\n",
    "if dien >100:\n",
    "    tien=3000*(dien-100)+1500*50+2000*50\n",
    "elif 100>=dien>50:\n",
    "    tien=2000*(dien-50)+50*1500\n",
    "else:\n",
    "    tien=dien*15000 \n",
    "print(tien)"
   ]
  },
  {
   "cell_type": "markdown",
   "id": "bb49b9d0",
   "metadata": {},
   "source": [
    "# bai 14"
   ]
  },
  {
   "cell_type": "code",
   "execution_count": 51,
   "id": "bec77a57",
   "metadata": {},
   "outputs": [
    {
     "name": "stdout",
     "output_type": "stream",
     "text": [
      "Vô số nghiệm\n"
     ]
    }
   ],
   "source": [
    "'''[Giải phương trình bậc nhất]\n",
    "Nhập vào hai số thực a và b của phương trình ax + b = 0. Tìm và in ra nghiệm của phương trình, kết quả\n",
    "làm tròn đến số thập phân thứ 2. In ra \"Vô nghiệm\" hoặc \"Vô số nghiệm\" trong trường hợp tương ứng.\n",
    "'''\n",
    "a=float(input('nhap so a'))\n",
    "b=float(input('nhap so b'))\n",
    "if a==0 and b!=0 :\n",
    "   print('Vô nghiệm')\n",
    "elif a==0 and b==0:\n",
    "   print('Vô số nghiệm')\n",
    "else:\n",
    "   b=0-b\n",
    "   print(b/a)"
   ]
  },
  {
   "cell_type": "markdown",
   "id": "934ecd5c",
   "metadata": {},
   "source": [
    "# bai 15"
   ]
  },
  {
   "cell_type": "code",
   "execution_count": 55,
   "id": "cdfa9384",
   "metadata": {},
   "outputs": [
    {
     "name": "stdout",
     "output_type": "stream",
     "text": [
      "Yếu\n"
     ]
    }
   ],
   "source": [
    "'''Xếp loại học lực]\n",
    "Nhập vào điểm trung bình của một học sinh và in ra học lực của học sinh đó. Xếp loại học lực theo quy tắc:\n",
    "- >= 8.0: Giỏi\n",
    "- >= 6.5: Khá\n",
    "- >= 5.0: Trung bình\n",
    "- < 5.0: Yếu\n",
    "'''\n",
    "diem=float(input('nhap diem'))\n",
    "if diem >= 8.0:\n",
    "    print('Giỏi')\n",
    "elif diem >=6.5:\n",
    "    print('Khá')\n",
    "elif diem >=5.0:\n",
    "    print('Trung bình')\n",
    "else:\n",
    "    print('Yếu')"
   ]
  },
  {
   "cell_type": "markdown",
   "id": "d3071738",
   "metadata": {},
   "source": [
    "# bai 16"
   ]
  },
  {
   "cell_type": "code",
   "execution_count": 73,
   "id": "2c0f4fdb",
   "metadata": {},
   "outputs": [
    {
     "name": "stdout",
     "output_type": "stream",
     "text": [
      "-5 -6 -6\n"
     ]
    }
   ],
   "source": [
    "'''[Rounding]\n",
    "Nhập vào một số thực: in ra kết quả làm tròn lên ,tròn xuống, làm tròn tới số nguyên gần nhất (không được\n",
    "sử dụng hàm sẵn có của pyton). Các kết quả cách nhau một dấu cách'''\n",
    "so=float(input('nhap so thuc'))\n",
    "nguyen=int(so)\n",
    "if so>0:\n",
    "    print(f'{nguyen +1 if so!=nguyen else nguyen} {nguyen} {nguyen +1 if so-nguyen>=0.5 else nguyen}')\n",
    "elif so<0:\n",
    "    print(f'{nguyen} {nguyen-1 if so!=nguyen else nguyen} {nguyen-1 if so-nguyen<=-0.5 else nguyen}')\n",
    "else:\n",
    "    print(f'0 0 0')"
   ]
  }
 ],
 "metadata": {
  "kernelspec": {
   "display_name": "Python 3",
   "language": "python",
   "name": "python3"
  },
  "language_info": {
   "codemirror_mode": {
    "name": "ipython",
    "version": 3
   },
   "file_extension": ".py",
   "mimetype": "text/x-python",
   "name": "python",
   "nbconvert_exporter": "python",
   "pygments_lexer": "ipython3",
   "version": "3.11.3"
  }
 },
 "nbformat": 4,
 "nbformat_minor": 5
}
