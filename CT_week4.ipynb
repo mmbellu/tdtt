{
 "cells": [
  {
   "cell_type": "markdown",
   "id": "98c7bb0e",
   "metadata": {},
   "source": [
    "* W4A1:\n",
    "\n"
   ]
  },
  {
   "cell_type": "code",
   "execution_count": 5,
   "id": "0e2d9e0a",
   "metadata": {},
   "outputs": [
    {
     "name": "stdout",
     "output_type": "stream",
     "text": [
      "5050\n"
     ]
    }
   ],
   "source": [
    "'''[SumOfNumBers]\n",
    "Viết chương trình Python sử dụng một trong 2 loại vòng lặp\n",
    "for hoặc while để tính tống các số nguyên từ 1 đến n. (n <=\n",
    "1000)\n",
    "'''\n",
    "n=int(input())\n",
    "tich=0\n",
    "for k in range(1,n+1):\n",
    "    tich+=k\n",
    "print(tich)\n"
   ]
  },
  {
   "cell_type": "markdown",
   "id": "63706c86",
   "metadata": {},
   "source": [
    "*W4A2:"
   ]
  },
  {
   "cell_type": "code",
   "execution_count": 54,
   "id": "b2207cc0",
   "metadata": {},
   "outputs": [
    {
     "name": "stdout",
     "output_type": "stream",
     "text": [
      "False\n"
     ]
    }
   ],
   "source": [
    "'''[PrimeNumber]\n",
    "VIết chương trình nhập vào một số tới khi được một số\n",
    "nguyên dương thì thôi. Kiểm tra số này có phải là số nguyên\n",
    "tố hay không?\n",
    "'''\n",
    "while True:\n",
    "    z=int(input())\n",
    "    if z>0:\n",
    "        break\n",
    "la_so_nt=True\n",
    "# chay tu 2 cho toi phan nguyen cua can bac hai cua z\n",
    "if z<2:\n",
    "        la_so_nt=False\n",
    "elif z==2:\n",
    "        la_so_nt==True\n",
    "else:\n",
    "    for k in range(2,int(z**0.5)+1):\n",
    "        if z%k == 0:\n",
    "            la_so_nt=False\n",
    "            break\n",
    "print(la_so_nt)\n"
   ]
  },
  {
   "cell_type": "markdown",
   "id": "cb0931ac",
   "metadata": {},
   "source": [
    "* W4A3:"
   ]
  },
  {
   "cell_type": "code",
   "execution_count": 13,
   "id": "bfe2ce3a",
   "metadata": {},
   "outputs": [
    {
     "name": "stdout",
     "output_type": "stream",
     "text": [
      "120\n"
     ]
    }
   ],
   "source": [
    "'''[Factorial]\n",
    "Viết chương trình tính giai thừa của một số nguyên n cho\n",
    "trước (n!=1×2×…×n) với 0 < n < 100.\n",
    "'''\n",
    "while True:\n",
    "    n=int(input())\n",
    "    if n>0 and n<100:\n",
    "        break\n",
    "def factorial(n):\n",
    "    if n==1:\n",
    "        return 1\n",
    "    return factorial(n-1)*n\n",
    "print(factorial(n))\n"
   ]
  },
  {
   "cell_type": "markdown",
   "id": "46acaf56",
   "metadata": {},
   "source": [
    "* W4A4:"
   ]
  },
  {
   "cell_type": "code",
   "execution_count": 18,
   "id": "32acc5c9",
   "metadata": {},
   "outputs": [
    {
     "name": "stdout",
     "output_type": "stream",
     "text": [
      "3\n"
     ]
    }
   ],
   "source": [
    "'''[CountingDigits]\n",
    "Viết chương trình nhập vào một số nguyên n và in ra màn\n",
    "hình số chữ số (trừ dấu) của số đó. Không dùng kiểu dữ liệu\n",
    "string\n",
    "'''\n",
    "n=abs(int(input()))\n",
    "count=0\n",
    "while n>0:\n",
    "    count+=1\n",
    "    n=n//10\n",
    "print(count)\n"
   ]
  },
  {
   "cell_type": "markdown",
   "id": "aa4a331a",
   "metadata": {},
   "source": [
    "* W4A5:"
   ]
  },
  {
   "cell_type": "code",
   "execution_count": 36,
   "id": "c0cacefa",
   "metadata": {},
   "outputs": [
    {
     "name": "stdout",
     "output_type": "stream",
     "text": [
      "nhap dung n chu so nguyen\n",
      "I′ve found the meaning of life!\n"
     ]
    }
   ],
   "source": [
    "'''[MeaningOfLife]\n",
    "Khi Douglas Adam viết cuốn sách, The Hitchhiker’s Guide to\n",
    "the Galaxy, ông ta đã thêm vào đó một vài lời nói đùa, và\n",
    "theo năm tháng nó đã trở nên nổi tiếng hơn cả bản thân\n",
    "cuốn tiểu thuyết: “Câu trả lời cho câu hỏi lớn nhất về sự\n",
    "sống, về vũ trụ và tất cả mọi thứ là 42.” Một vài người cuồng\n",
    "tín đã tốn hàng năm trời, với mọi cố gắng nỗ lực để gán\n",
    "ghép ý nghĩa, biểu trưng cho con số 42 và các “sự cố” liên\n",
    "quan đến nó.\n",
    "Với mong muốn hái ra tiền từ sư “ám ảnh” điên rồ này, một\n",
    "cuốn sách mới vừa được xuất bản, 42: Douglas Adams’\n",
    "Amazingly Accurate Answer to Life, the Universe and\n",
    "Everything. Cuốn sách được phát hành trùng với kỉ niệm 10\n",
    "năm ngày mất của Adams.\n",
    "“Câu trả lời rất đơn giản”, như Adams đã nói, “Chỉ là một trò\n",
    "đùa. Tôi cần một con số, một con số be bé, một con số tầm\n",
    "thường, và tôi đã chọn nó. Hai chữ số, bội của 13, một con\n",
    "số hoàn toàn vô nghĩa đối với mấy tay thầy chùa. Tôi ngồi\n",
    "trên bàn làm việc, ngắm khu vườn và nghĩ rằng số 42 sẽ\n",
    "được việc lắm đây. Tôi gõ nó ra. Và hết.”\n",
    "Xuyên suốt lịch sử, các con số được gán cho những ý nghĩa\n",
    "đặc biệt nào đó. Plato gọi việc nghiên cứu các biểu tượng số\n",
    "học” là level cao nhất của tri thức. Trong khi Pythagoras tin\n",
    "rằng các con số đều có linh hồn cũng như sức mạnh kì diệu.\n",
    "Trong khi đó, hàng triệu người hâm hộ Hitchhiker cho đến\n",
    "ngày nay vẫn kiên trì giải mã những thứ họ cho rằng đó là\n",
    "những động cơ bí mật của Adams.\n",
    "Hãy viết một chương trình nhận vào một số nguyên dương n\n",
    "và một dãy gồm n số nguyên. Nếu n số nguyên đó có số 42\n",
    "thì in ra màn hình dòng chữ \"I′ve found the meaning of life!\",\n",
    "ngược lại in ra dòng chữ \"It′s a joke!\".\n",
    "'''\n",
    "while True:\n",
    "    sai=False\n",
    "    n=int(input('nhap n: '))\n",
    "    if n<=0:\n",
    "        print('nhap n la so nguyen duong')\n",
    "        continue\n",
    "    day_so=input('nhap day so').split()\n",
    "    if len(day_so)!=n:\n",
    "        print('nhap dung n chu so nguyen')\n",
    "        continue\n",
    "    for k in range(len(day_so)):\n",
    "        if not day_so[k].isdigit() :\n",
    "            print(f'nhap sai gia tri roi(gia tri sai:{day_so[k]})')\n",
    "            sai=True\n",
    "            break\n",
    "    if sai==True:\n",
    "        continue\n",
    "    if '42' in day_so:\n",
    "        print('I′ve found the meaning of life!')\n",
    "    else:\n",
    "        print(\"It's a joke\")\n",
    "    break\n",
    "        \n"
   ]
  },
  {
   "cell_type": "markdown",
   "id": "83d9640a",
   "metadata": {},
   "source": [
    "* W4A6:"
   ]
  },
  {
   "cell_type": "code",
   "execution_count": 47,
   "id": "e0d097f6",
   "metadata": {},
   "outputs": [
    {
     "name": "stdout",
     "output_type": "stream",
     "text": [
      "533\n"
     ]
    }
   ],
   "source": [
    "'''\"[SumPrimesInRange]\n",
    "Nhập hai số nguyên dương a, b (a ≤ b). Hãy tính tổng các số\n",
    "nguyên tố trong đoạn [a, b]. Mỗi dòng là một bộ test (a b).\"\n",
    "'''\n",
    "sum=0\n",
    "def isprime(n):\n",
    "    la_so_nt=True\n",
    "    if n<2:\n",
    "       return False\n",
    "    if n==2:\n",
    "       return True\n",
    "    for k in range(2,int(n**0.5)+1):\n",
    "     if n%k == 0:\n",
    "        la_so_nt=False\n",
    "        break\n",
    "    return la_so_nt\n",
    "while True:\n",
    "    a,b=map(int,input().split(' '))\n",
    "    if (a<=b)==False:\n",
    "       print('ko thoa man')\n",
    "       continue\n",
    "    break\n",
    "for i in range(a,b+1):\n",
    "   if isprime(i):\n",
    "      sum+=i\n",
    "print(sum)\n",
    "   "
   ]
  },
  {
   "cell_type": "markdown",
   "id": "df57241b",
   "metadata": {},
   "source": [
    "* W4A7:"
   ]
  },
  {
   "cell_type": "code",
   "execution_count": null,
   "id": "7f1d9ee5",
   "metadata": {},
   "outputs": [
    {
     "name": "stdout",
     "output_type": "stream",
     "text": [
      "Ước số nguyên tố lớn nhất là: 5\n"
     ]
    }
   ],
   "source": [
    "# [LargestPrimeFactor]\n",
    "\n",
    "def isprime(n):\n",
    "    if n < 2:\n",
    "        return False\n",
    "    for k in range(2, int(n**0.5) + 1):\n",
    "        if n % k == 0:\n",
    "            return False\n",
    "    return True\n",
    "\n",
    "n = int(input(\"Nhập n (n ≥ 2): \"))\n",
    "\n",
    "largest = None\n",
    "x = n\n",
    "\n",
    "# Chia dần n cho các ước nhỏ\n",
    "for k in range(2, int(n**0.5) + 1):\n",
    "    while x % k == 0:\n",
    "        largest = k\n",
    "        x /= k #x khi nay la mot uoc cua n voi : x*k=n\n",
    "\n",
    "# Nếu còn phần dư lớn hơn 1, chính nó là ước nguyên tố lớn nhất\n",
    "if x > 1: # neu x khac k, neu so can tim lon hon can bac  hai cua n, nguoc lai so do ho hon cai bac hai cua n\n",
    "    largest = x\n",
    "\n",
    "print(\"Ước số nguyên tố lớn nhất là:\", int(largest))"
   ]
  },
  {
   "cell_type": "markdown",
   "id": "428c0edc",
   "metadata": {},
   "source": [
    "* W4A8"
   ]
  },
  {
   "cell_type": "code",
   "execution_count": 39,
   "id": "9f891be9",
   "metadata": {},
   "outputs": [
    {
     "name": "stdout",
     "output_type": "stream",
     "text": [
      "24   8813200023188\n"
     ]
    }
   ],
   "source": [
    "'''ReverseAddPalindrome]\n",
    "Nhập số nguyên dương n. Lặp lại phép toán n = n + reverse\n",
    "(n) cho đến khi n là số đối xứng (palindrome). In ra số bước\n",
    "và giá trị palindrome thu được\n",
    "'''\n",
    "import sys\n",
    "sys.set_int_max_str_digits(20000)\n",
    "count=0\n",
    "n=int(input('nhap n'))\n",
    "def reverse(n):\n",
    "    n_str=str(n)[::-1]\n",
    "    return int(n_str)\n",
    "def palindrome(n):\n",
    "    chu=str(n)\n",
    "    return chu[::]==chu[::-1]\n",
    "while True:\n",
    "    count+=1\n",
    "    n = n + reverse(n)\n",
    "    if palindrome(n):\n",
    "        print(count,' ',n)\n",
    "        break\n"
   ]
  },
  {
   "cell_type": "markdown",
   "id": "e678b220",
   "metadata": {},
   "source": [
    "* W4A9:"
   ]
  },
  {
   "cell_type": "code",
   "execution_count": 56,
   "id": "93e5382a",
   "metadata": {},
   "outputs": [
    {
     "name": "stdout",
     "output_type": "stream",
     "text": [
      "1  4  9  16  25  36  49  "
     ]
    }
   ],
   "source": [
    "'''[PerfectSquaresDistinctDigits]\n",
    "Nhập vào số nguyên dương n. In ra tất cả các số chính\n",
    "phương ≤ n có các chữ số đôi một khác nhau (in theo thứ tự\n",
    "tăng dần, cùng hàng, cách nhau bởi một dấu cách). Nếu\n",
    "không có, in ra (no number).'''\n",
    "while True:\n",
    "    n=int(input('nhap so n'))\n",
    "    if n<=0:\n",
    "        continue\n",
    "    break\n",
    "for i in range(1,n+1):\n",
    "    k=int(i**0.5)\n",
    "    if k**2==i:\n",
    "        print(i,' ',end='')"
   ]
  },
  {
   "cell_type": "markdown",
   "id": "3fdea0c6",
   "metadata": {},
   "source": [
    "* W4A10:"
   ]
  },
  {
   "cell_type": "code",
   "execution_count": null,
   "id": "003a67dc",
   "metadata": {},
   "outputs": [
    {
     "name": "stdout",
     "output_type": "stream",
     "text": [
      "18   20\n"
     ]
    }
   ],
   "source": [
    "'''\"[LongestCollatzUpToN]\n",
    "Nhập vào số nguyên dương n. Tìm số x trong [1, n] có độ dài\n",
    "dãy Collatz lớn nhất và in ra x cùng độ dài dãy tương ứng (x\n",
    "L). Nếu có nhiều số cùng độ dài, chọn số nhỏ nhất.\"\n",
    "'''\n",
    "max=0\n",
    "num=0\n",
    "while True:\n",
    "    n=int(input('nhap so n'))\n",
    "    if n<=0:\n",
    "        continue\n",
    "    break\n",
    "def collatz(n):\n",
    "    count=1\n",
    "    while n!=1 :\n",
    "        if n%2==0:\n",
    "            n=n/2\n",
    "        else:\n",
    "            n=3*n+1\n",
    "        count+=1\n",
    "    return count\n",
    "for number in range(1,n+1):\n",
    "    if collatz(number)>max:\n",
    "        max=collatz(number)\n",
    "        num=number\n",
    "    elif collatz(number)==max and number<num:\n",
    "        max=collatz(number)\n",
    "        num=number\n",
    "print(num,' ',max)"
   ]
  },
  {
   "cell_type": "markdown",
   "id": "0f425ca1",
   "metadata": {},
   "source": [
    "*W4A11:"
   ]
  },
  {
   "cell_type": "code",
   "execution_count": 1,
   "id": "79c381e6",
   "metadata": {},
   "outputs": [
    {
     "name": "stdout",
     "output_type": "stream",
     "text": [
      "1\n"
     ]
    }
   ],
   "source": [
    "'''[EvenDivisors]\n",
    "Viết chương trình đếm số lượng ước số chẵn của số nguyên\n",
    "dương n với n < 10^6.\n",
    "'''\n",
    "count=0\n",
    "n=int(input())\n",
    "for k in range(2,n+1,2):\n",
    "    if n%k==0:\n",
    "     count+=1\n",
    "print(count)"
   ]
  },
  {
   "cell_type": "markdown",
   "id": "e0372cd7",
   "metadata": {},
   "source": [
    "* B12"
   ]
  },
  {
   "cell_type": "code",
   "execution_count": 6,
   "id": "fe661fed",
   "metadata": {},
   "outputs": [
    {
     "name": "stdout",
     "output_type": "stream",
     "text": [
      "217462\n"
     ]
    }
   ],
   "source": [
    "tien,thang=map(int,input().split())\n",
    "for k in range(thang):\n",
    "    tien+=tien*0.007\n",
    "print(int(tien))"
   ]
  },
  {
   "cell_type": "markdown",
   "id": "e2c592d2",
   "metadata": {},
   "source": [
    "* Bai 13"
   ]
  },
  {
   "cell_type": "code",
   "execution_count": 14,
   "id": "0d0a9491",
   "metadata": {},
   "outputs": [
    {
     "name": "stdout",
     "output_type": "stream",
     "text": [
      "True\n"
     ]
    }
   ],
   "source": [
    "def sum_uoc(n):\n",
    "    sum=1\n",
    "    for k in range(2,int(n**0.5)+1):\n",
    "        if n%k==0 and (n/k)!=k:\n",
    "         sum+=k\n",
    "         sum+=n/k\n",
    "    return int(sum)\n",
    "m,n=map(int,input().split())\n",
    "if m==sum_uoc(n) and n==sum_uoc(m):\n",
    "   print(True)\n",
    "else:\n",
    "   print(False)  "
   ]
  },
  {
   "cell_type": "markdown",
   "id": "e208f949",
   "metadata": {},
   "source": [
    "* bai 14"
   ]
  },
  {
   "cell_type": "code",
   "execution_count": 22,
   "id": "396f7832",
   "metadata": {},
   "outputs": [
    {
     "name": "stdout",
     "output_type": "stream",
     "text": [
      "8\n"
     ]
    }
   ],
   "source": [
    "m,n=map(int,input().split())\n",
    "if m>n:\n",
    "    a=m\n",
    "    b=n\n",
    "else:\n",
    "    a=n\n",
    "    b=m\n",
    "max=1\n",
    "for k in range(2,b+1):\n",
    "        if (b%k==0 and a%k==0) and k>max:\n",
    "             max=k\n",
    "print(max)"
   ]
  },
  {
   "cell_type": "markdown",
   "id": "c46407b1",
   "metadata": {},
   "source": [
    "* bai 15"
   ]
  },
  {
   "cell_type": "markdown",
   "id": "49d6b4e7",
   "metadata": {},
   "source": [
    "ga+ cho=con\n",
    "ga*2+cho*4=chan\n",
    "ga=con-cho\n",
    "2*con+2*cho=chan\n",
    "cho=(chan-2*con)/2\n"
   ]
  },
  {
   "cell_type": "code",
   "execution_count": 26,
   "id": "80aa575a",
   "metadata": {},
   "outputs": [
    {
     "name": "stdout",
     "output_type": "stream",
     "text": [
      "22 14\n"
     ]
    }
   ],
   "source": [
    "import sys\n",
    "con,chan=map(int,input().split())\n",
    "if chan%2!=0:\n",
    "    sys.exit('Invalid')\n",
    "cho=(chan-con*2)//2\n",
    "ga=con-cho\n",
    "if cho<0 :\n",
    "    print('Invalid')\n",
    "else:\n",
    "    print(ga,cho)"
   ]
  },
  {
   "cell_type": "markdown",
   "id": "fc4dd6c3",
   "metadata": {},
   "source": [
    "* bai 16"
   ]
  },
  {
   "cell_type": "code",
   "execution_count": 28,
   "id": "db296f20",
   "metadata": {},
   "outputs": [
    {
     "name": "stdout",
     "output_type": "stream",
     "text": [
      "6\n",
      "12\n",
      "18\n",
      "24\n",
      "30\n",
      "36\n",
      "42\n",
      "48\n",
      "54\n",
      "60\n",
      "66\n",
      "72\n",
      "78\n",
      "84\n",
      "90\n",
      "96\n"
     ]
    }
   ],
   "source": [
    "for k in range(2,100,2):\n",
    "    if k%3==0:\n",
    "        print(k)"
   ]
  },
  {
   "cell_type": "markdown",
   "id": "4efba674",
   "metadata": {},
   "source": [
    "* bai 17"
   ]
  },
  {
   "cell_type": "code",
   "execution_count": null,
   "id": "c7e3c8e8",
   "metadata": {},
   "outputs": [],
   "source": [
    "a=int(input())\n",
    "for k in range(1,11):\n",
    "    print(a*k)"
   ]
  },
  {
   "cell_type": "markdown",
   "id": "2938d98d",
   "metadata": {},
   "source": [
    "* bai 18"
   ]
  },
  {
   "cell_type": "code",
   "execution_count": 30,
   "id": "540b355b",
   "metadata": {},
   "outputs": [
    {
     "name": "stdout",
     "output_type": "stream",
     "text": [
      "1\n",
      "2\n"
     ]
    }
   ],
   "source": [
    "m,n=map(int,input().split())\n",
    "if m>n:\n",
    "    a=m\n",
    "    b=n\n",
    "else:\n",
    "    a=n\n",
    "    b=m\n",
    "for k in range(1,n):\n",
    "    if m%k==0 and n%k==0:\n",
    "        print(k)\n"
   ]
  },
  {
   "cell_type": "markdown",
   "id": "2848a1f0",
   "metadata": {},
   "source": [
    "* bai 19"
   ]
  },
  {
   "cell_type": "code",
   "execution_count": 34,
   "id": "546766bb",
   "metadata": {},
   "outputs": [
    {
     "name": "stdout",
     "output_type": "stream",
     "text": [
      "2 4 6 8 10 12 14 16 18 20 "
     ]
    }
   ],
   "source": [
    "n=int(input())\n",
    "for k in range(2,n+1,2):\n",
    "    print(k,end=' ')"
   ]
  },
  {
   "cell_type": "markdown",
   "id": "4fab5359",
   "metadata": {},
   "source": [
    "* bai 20"
   ]
  },
  {
   "cell_type": "code",
   "execution_count": 38,
   "id": "6053643d",
   "metadata": {},
   "outputs": [
    {
     "name": "stdout",
     "output_type": "stream",
     "text": [
      "True\n"
     ]
    }
   ],
   "source": [
    "n=int(input())\n",
    "while n>1:\n",
    "    n/=2\n",
    "    if n==1:\n",
    "      print(True)\n",
    "      break\n",
    "    if n%2!=0:\n",
    "       print(False)\n",
    "       break\n",
    "\n",
    "    \n"
   ]
  },
  {
   "cell_type": "markdown",
   "id": "e3772074",
   "metadata": {},
   "source": [
    "* bai 21"
   ]
  },
  {
   "cell_type": "code",
   "execution_count": 40,
   "id": "e42aa465",
   "metadata": {},
   "outputs": [
    {
     "name": "stdout",
     "output_type": "stream",
     "text": [
      "6\n"
     ]
    }
   ],
   "source": [
    "n=int(input())\n",
    "sum=0\n",
    "while n>0:\n",
    "    sum+=n%10\n",
    "    n=n//10\n",
    "print(sum)"
   ]
  },
  {
   "cell_type": "markdown",
   "id": "b80c01e0",
   "metadata": {},
   "source": [
    "* bai 22"
   ]
  },
  {
   "cell_type": "code",
   "execution_count": 41,
   "id": "a3c69572",
   "metadata": {},
   "outputs": [
    {
     "name": "stdout",
     "output_type": "stream",
     "text": [
      "1   2\n"
     ]
    }
   ],
   "source": [
    "n=int(input())\n",
    "chan=0\n",
    "le=0\n",
    "while n>0:\n",
    "    if (n%10)%2==0:\n",
    "        chan+=1\n",
    "    else:\n",
    "        le+=1\n",
    "    n=n//10\n",
    "print(chan,' ',le)"
   ]
  },
  {
   "cell_type": "markdown",
   "id": "c4adf4da",
   "metadata": {},
   "source": [
    "* bai 23"
   ]
  },
  {
   "cell_type": "code",
   "execution_count": 43,
   "id": "32e8c70b",
   "metadata": {},
   "outputs": [
    {
     "name": "stdout",
     "output_type": "stream",
     "text": [
      "3\n"
     ]
    }
   ],
   "source": [
    "n=int(input())\n",
    "for k in range(n):\n",
    "    if k*(k+1)/2<n:\n",
    "        a=k\n",
    "print(a)"
   ]
  },
  {
   "cell_type": "markdown",
   "id": "950b6258",
   "metadata": {},
   "source": [
    "* bai 25"
   ]
  },
  {
   "cell_type": "code",
   "execution_count": 45,
   "id": "83ed3004",
   "metadata": {},
   "outputs": [
    {
     "name": "stdout",
     "output_type": "stream",
     "text": [
      "-3\n"
     ]
    }
   ],
   "source": [
    "day=[]\n",
    "while True:\n",
    "    a=int(input())\n",
    "    day.append(a)\n",
    "    if a==-1:\n",
    "        break\n",
    "print(min(day))"
   ]
  },
  {
   "cell_type": "markdown",
   "id": "f8ae8b22",
   "metadata": {},
   "source": [
    "* bai 24"
   ]
  },
  {
   "cell_type": "code",
   "execution_count": 49,
   "id": "914e1de7",
   "metadata": {},
   "outputs": [
    {
     "name": "stdout",
     "output_type": "stream",
     "text": [
      "4550\n"
     ]
    }
   ],
   "source": [
    "A=int(input())\n",
    "n=0\n",
    "sum=0\n",
    "while sum<A:\n",
    "    n+=1\n",
    "    sum+=1/n\n",
    "print(n)"
   ]
  },
  {
   "cell_type": "markdown",
   "id": "ab0c7a96",
   "metadata": {},
   "source": [
    "* bai 26"
   ]
  },
  {
   "cell_type": "code",
   "execution_count": 36,
   "id": "ea461241",
   "metadata": {},
   "outputs": [
    {
     "name": "stdout",
     "output_type": "stream",
     "text": [
      "13\n"
     ]
    }
   ],
   "source": [
    "A=int(input())\n",
    "if A<1:\n",
    "    print(\"ko dc\")\n",
    "else:\n",
    "    f1 , f2=1,1\n",
    "    ans=1\n",
    "    while  f2<=A:\n",
    "        ans=f2\n",
    "        f1,f2=f2,f1+f2\n",
    "    print(ans)\n",
    "\n"
   ]
  },
  {
   "cell_type": "markdown",
   "id": "a13db16c",
   "metadata": {},
   "source": [
    "* bai 27"
   ]
  },
  {
   "cell_type": "code",
   "execution_count": 15,
   "id": "e8adc16f",
   "metadata": {},
   "outputs": [
    {
     "name": "stdout",
     "output_type": "stream",
     "text": [
      "8\n"
     ]
    }
   ],
   "source": [
    "i=input()\n",
    "count=0\n",
    "for k in i:\n",
    "    count+=1\n",
    "print(count)"
   ]
  },
  {
   "cell_type": "markdown",
   "id": "2cf200d4",
   "metadata": {},
   "source": [
    "* baiv 28"
   ]
  },
  {
   "cell_type": "code",
   "execution_count": 16,
   "id": "d54199cb",
   "metadata": {},
   "outputs": [
    {
     "name": "stdout",
     "output_type": "stream",
     "text": [
      "a\n"
     ]
    }
   ],
   "source": [
    "i=input()\n",
    "for k in range(len(i)):\n",
    "    if k==0:\n",
    "        print(i[k])"
   ]
  },
  {
   "cell_type": "markdown",
   "id": "41221c12",
   "metadata": {},
   "source": [
    "* bai 29"
   ]
  },
  {
   "cell_type": "code",
   "execution_count": 18,
   "id": "b86e884d",
   "metadata": {},
   "outputs": [
    {
     "name": "stdout",
     "output_type": "stream",
     "text": [
      "12\n"
     ]
    }
   ],
   "source": [
    "a,b,c=map(int,input().split(','))\n",
    "print(a+b+c)"
   ]
  },
  {
   "cell_type": "markdown",
   "id": "224d6107",
   "metadata": {},
   "source": [
    "* bai 30"
   ]
  },
  {
   "cell_type": "code",
   "execution_count": null,
   "id": "36eccd84",
   "metadata": {},
   "outputs": [],
   "source": [
    "i=input()\n",
    "thuong=0\n",
    "hoa=0\n",
    "so=0\n",
    "for k in i:\n",
    "    if i.isdigit():\n",
    "        so+=1\n",
    "    elif i.isupper():\n",
    "        hoa+=1\n",
    "    elif i.islower():\n",
    "        thuong+=1\n",
    "print(f\"chu thuong:{thuong};chu hoa:{hoa};so;{so}\")"
   ]
  },
  {
   "cell_type": "markdown",
   "id": "38dad196",
   "metadata": {},
   "source": [
    "* bai 31"
   ]
  },
  {
   "cell_type": "code",
   "execution_count": 19,
   "id": "c02fb908",
   "metadata": {},
   "outputs": [
    {
     "name": "stdout",
     "output_type": "stream",
     "text": [
      "12\n"
     ]
    }
   ],
   "source": [
    "i=input()\n",
    "sum=0\n",
    "for k in i:\n",
    "    if k.isdigit():\n",
    "       sum+=int(k)\n",
    "print(sum)"
   ]
  },
  {
   "cell_type": "markdown",
   "id": "ce173971",
   "metadata": {},
   "source": [
    "* bai 32"
   ]
  },
  {
   "cell_type": "code",
   "execution_count": null,
   "id": "39a436de",
   "metadata": {},
   "outputs": [],
   "source": [
    "i=input()\n",
    "dac_biet=0\n",
    "hoa=0\n",
    "thuong=0\n",
    "so=0\n",
    "for k in i:\n",
    "    if i.isdigit():\n",
    "        so+=1\n",
    "    elif i.islower():\n",
    "        thuong+=1\n",
    "    elif i.isupper():\n",
    "        hoa+=1\n",
    "    else:\n",
    "        dac_biet+=1\n",
    "if hoa>=1 and thuong>=1 and hoa>=1 and so>=1 and len(i)>=6:\n",
    "    print('mat khau manh')\n",
    "else:\n",
    "    print('mat khau yeu')"
   ]
  },
  {
   "cell_type": "markdown",
   "id": "473133f2",
   "metadata": {},
   "source": [
    "* bai 33"
   ]
  },
  {
   "cell_type": "code",
   "execution_count": 32,
   "id": "80f43ee0",
   "metadata": {},
   "outputs": [
    {
     "name": "stdout",
     "output_type": "stream",
     "text": [
      "123.456.789"
     ]
    }
   ],
   "source": [
    "i=int(input())\n",
    "a=str(i)\n",
    "count=0\n",
    "for k in range(len(a)):\n",
    "    count+=1\n",
    "    print(a[k],end='')\n",
    "    if count%3==0 and k!=len(a)-1:\n",
    "        print('.',end='')"
   ]
  },
  {
   "cell_type": "markdown",
   "id": "8891c343",
   "metadata": {},
   "source": [
    "* bai 34"
   ]
  },
  {
   "cell_type": "code",
   "execution_count": 34,
   "id": "7d36cb6a",
   "metadata": {},
   "outputs": [
    {
     "name": "stdout",
     "output_type": "stream",
     "text": [
      "heo\n"
     ]
    }
   ],
   "source": [
    "a=input()\n",
    "b=input()\n",
    "nb=len(b)\n",
    "if b=='':\n",
    "    print('chuoi b trong') \n",
    "else:\n",
    "    i=0\n",
    "    kq=''\n",
    "    while i<len(a):\n",
    "        if a[i:i+nb]==b:\n",
    "            i+=nb \n",
    "        else:\n",
    "            kq+= a[i]\n",
    "            i+=1\n",
    "    print(kq)\n"
   ]
  }
 ],
 "metadata": {
  "kernelspec": {
   "display_name": "Python 3",
   "language": "python",
   "name": "python3"
  },
  "language_info": {
   "codemirror_mode": {
    "name": "ipython",
    "version": 3
   },
   "file_extension": ".py",
   "mimetype": "text/x-python",
   "name": "python",
   "nbconvert_exporter": "python",
   "pygments_lexer": "ipython3",
   "version": "3.11.3"
  }
 },
 "nbformat": 4,
 "nbformat_minor": 5
}
