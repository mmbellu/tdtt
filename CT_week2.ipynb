{
 "cells": [
  {
   "cell_type": "markdown",
   "id": "76a2cadc",
   "metadata": {},
   "source": [
    "# bai 1"
   ]
  },
  {
   "cell_type": "code",
   "execution_count": null,
   "id": "027d0b9e",
   "metadata": {},
   "outputs": [],
   "source": [
    "n=int(input('enter n:'))\n",
    "print(n*2)"
   ]
  },
  {
   "cell_type": "markdown",
   "id": "5dd3bf77",
   "metadata": {},
   "source": [
    "# bai 2"
   ]
  },
  {
   "cell_type": "code",
   "execution_count": null,
   "id": "9311b17f",
   "metadata": {},
   "outputs": [],
   "source": [
    "a=int(input())\n",
    "b=int(input())\n",
    "pi=3.14\n",
    "if a>b:\n",
    "    cir=a**2/4*pi\n",
    "else:\n",
    "    cir=b**2/4*pi\n",
    "rec=a*b\n",
    "trongcay=rec-cir\n",
    "print(f'dien tich trong cay la {trongcay}')"
   ]
  },
  {
   "cell_type": "markdown",
   "id": "21dbd530",
   "metadata": {},
   "source": [
    "# bai 3"
   ]
  },
  {
   "cell_type": "code",
   "execution_count": null,
   "id": "99265b57",
   "metadata": {},
   "outputs": [],
   "source": [
    "char=input(\"nhap mot chu cai: \")\n",
    "if char.isalpha and len(char)==1:\n",
    "    if char.islower():\n",
    "        print(char.upper())\n",
    "    else:\n",
    "        print(char.lower())"
   ]
  },
  {
   "cell_type": "markdown",
   "id": "f7252dc5",
   "metadata": {},
   "source": [
    "# bai 4"
   ]
  },
  {
   "cell_type": "code",
   "execution_count": null,
   "id": "2d595d3e",
   "metadata": {},
   "outputs": [],
   "source": [
    "char=input(\"nhap mot chu cai: \")\n",
    "if char.isalpha and len(char)==1:\n",
    "    print(f\"{char} la ki tu alphabet\")\n",
    "else:\n",
    "    print(f\"{char} khong phai la ki tu alphabet\")"
   ]
  },
  {
   "cell_type": "markdown",
   "id": "67861ef5",
   "metadata": {},
   "source": [
    "# bai 5"
   ]
  },
  {
   "cell_type": "code",
   "execution_count": null,
   "id": "69e87090",
   "metadata": {},
   "outputs": [],
   "source": [
    "char=input(\"nhap mot chu cai: \")\n",
    "if char.isalpha and len(char)==1:\n",
    "    if char=='A':\n",
    "        print('ko co ')\n",
    "    else:\n",
    "     print(chr(ord(char)+(ord('a')-ord('A'))-1))"
   ]
  },
  {
   "cell_type": "markdown",
   "id": "9b803c0f",
   "metadata": {},
   "source": [
    "# bai 6"
   ]
  },
  {
   "cell_type": "code",
   "execution_count": null,
   "id": "90cda30b",
   "metadata": {},
   "outputs": [],
   "source": [
    "a,b,c=map(float,input().split())\n",
    "if a+b>c and a+c>b and b+c>a:\n",
    "    p=(a+b+c)/2\n",
    "    print(f'area={(p*(p-a)*(p-b)*(p-c))**(1/2)}')\n",
    "else:\n",
    "    print(\"khong phai 3 canh cua tam giac\")"
   ]
  },
  {
   "cell_type": "markdown",
   "id": "7f9f39c6",
   "metadata": {},
   "source": [
    "# bai 7"
   ]
  },
  {
   "cell_type": "code",
   "execution_count": null,
   "id": "b8ac0529",
   "metadata": {},
   "outputs": [],
   "source": [
    "while True:\n",
    "    xau=input()\n",
    "    if len(xau)>=20:\n",
    "        break\n",
    "print(xau[4],' ',xau[8])\n",
    "     "
   ]
  },
  {
   "cell_type": "markdown",
   "id": "44976c0a",
   "metadata": {},
   "source": [
    "# bai 8"
   ]
  },
  {
   "cell_type": "code",
   "execution_count": null,
   "id": "e74e4a53",
   "metadata": {},
   "outputs": [],
   "source": [
    "def tinh_tien_thang ():\n",
    " hoten=input('Ten chu ho:')\n",
    " thtrc=int(input('chi so thang truoc: '))\n",
    " thnay=int(input('chi so thang nay: '))\n",
    " dien=thnay-thtrc\n",
    " b1,b2,b3,b4,b5,b6=1984,2050,2380,2998,3350,3460\n",
    " tien=0\n",
    " if dien>=401:\n",
    "   tien=50*(1984+2050)+100*(2380+2998+3350)+(dien-400)*3460\n",
    " elif 401>dien>=301:\n",
    "  tien= 50*(1984+2050)+100*(2380+2998)+(dien-300)*3350\n",
    " elif 301> dien >= 201:\n",
    "  tien=50*(1984+2050)+100*2380+(dien-200)*2998\n",
    " elif 201 > dien >=101:\n",
    "  tien=50*(1984+2050)+(dien-100)*2380\n",
    " elif 101> dien >=51:\n",
    "  tien=2050*(dien-50)+50*1984\n",
    " else:\n",
    "  tien=50*1984\n",
    " print(f'Ho va ten:{hoten}')\n",
    " print(f'Tien phai tra la: {round(tien*1.08)}')\n",
    "tinh_tien_thang()"
   ]
  },
  {
   "cell_type": "markdown",
   "id": "164cc4d9",
   "metadata": {},
   "source": [
    "# bai tap khac"
   ]
  },
  {
   "cell_type": "markdown",
   "id": "96b76d56",
   "metadata": {},
   "source": [
    "## bai 1"
   ]
  },
  {
   "cell_type": "code",
   "execution_count": null,
   "id": "5361a236",
   "metadata": {},
   "outputs": [],
   "source": [
    "n=int(input('nhap so nguyen n: '))\n",
    "if n % 2 == 1 :\n",
    " print('n la so le')\n",
    "else:\n",
    " print('n la so chan')"
   ]
  },
  {
   "cell_type": "markdown",
   "id": "a0dc3b08",
   "metadata": {},
   "source": [
    "## bai 2"
   ]
  },
  {
   "cell_type": "code",
   "execution_count": null,
   "id": "537d3ffb",
   "metadata": {},
   "outputs": [],
   "source": [
    "n=int(input('nhap so nguyen n: '))\n",
    "if n % 10 == 5 :\n",
    "    print('True')\n",
    "else:\n",
    "    print('False')"
   ]
  },
  {
   "cell_type": "markdown",
   "id": "66ea601e",
   "metadata": {},
   "source": [
    "## bai 3"
   ]
  },
  {
   "cell_type": "code",
   "execution_count": null,
   "id": "cbb99b13",
   "metadata": {},
   "outputs": [],
   "source": [
    "n=int(input('nhap so nguyen n: '))\n",
    "if n % 3 == 0 and n % 5 == 0 :\n",
    "    print('True')\n",
    "else:\n",
    "    print('False')"
   ]
  },
  {
   "cell_type": "markdown",
   "id": "0da2c666",
   "metadata": {},
   "source": [
    "## bai 4"
   ]
  },
  {
   "cell_type": "code",
   "execution_count": null,
   "id": "e9864f73",
   "metadata": {},
   "outputs": [],
   "source": [
    "n=int(input('nhap nam sinh: '))\n",
    "hien_tai=2025\n",
    "so_tuoi = n-hien_tai\n",
    "if so_tuoi >= 18:\n",
    " print('du')\n",
    "else:\n",
    " print('ko du')"
   ]
  },
  {
   "cell_type": "markdown",
   "id": "84022046",
   "metadata": {},
   "source": [
    "## bai 5"
   ]
  },
  {
   "cell_type": "code",
   "execution_count": null,
   "id": "0918239a",
   "metadata": {},
   "outputs": [],
   "source": [
    "n=int(input('nhap so nguyen n: '))\n",
    "m=int(input('nhap so nguyen m: '))\n",
    "if n>m:\n",
    "    print('n > m')\n",
    "elif n<m:\n",
    "    print('n < m')\n",
    "else:\n",
    "    print('n=m')"
   ]
  },
  {
   "cell_type": "markdown",
   "id": "a320d273",
   "metadata": {},
   "source": [
    "## bai 6"
   ]
  },
  {
   "cell_type": "code",
   "execution_count": null,
   "id": "b3900306",
   "metadata": {},
   "outputs": [],
   "source": [
    "ch=input('nhap mot ki tu: ')\n",
    "if ch.isdigit():\n",
    "    print('day la so')\n",
    "elif ch.isalpha():\n",
    "    print('day la chu')\n",
    "else:\n",
    "    print('ko phai chu ko phai so')"
   ]
  },
  {
   "cell_type": "markdown",
   "id": "1651ec7d",
   "metadata": {},
   "source": [
    "## bai 7"
   ]
  },
  {
   "cell_type": "code",
   "execution_count": null,
   "id": "5fe5c781",
   "metadata": {},
   "outputs": [],
   "source": [
    "diem = int(input('nhap diem tu 0-10: '))\n",
    "if diem >= 8 :\n",
    "    print('gioi')\n",
    "elif 8> diem >= 6.5:\n",
    "    print('kha')\n",
    "elif 6.5> diem >=5:\n",
    "    print('trung binh')\n",
    "else:\n",
    "    print('yeu')"
   ]
  },
  {
   "cell_type": "markdown",
   "id": "d376602c",
   "metadata": {},
   "source": [
    "## bai 8"
   ]
  },
  {
   "cell_type": "code",
   "execution_count": null,
   "id": "23c492ec",
   "metadata": {},
   "outputs": [],
   "source": [
    "nam = int(input('nhap nam: '))\n",
    "if nam % 400 == 0 or (nam % 4 == 0 and nam % 100 != 0):\n",
    "    print('nam nhuan')\n",
    "else:\n",
    "    print('ko phai nam nhuan')"
   ]
  },
  {
   "cell_type": "markdown",
   "id": "c79d8597",
   "metadata": {},
   "source": [
    "## bai 9"
   ]
  },
  {
   "cell_type": "code",
   "execution_count": null,
   "id": "3a05393f",
   "metadata": {},
   "outputs": [],
   "source": [
    "x = int(input('nhap so tu 0-9: '))\n",
    "match x :\n",
    "    case 0:\n",
    "        print('Khong')\n",
    "    case 1:\n",
    "        print('Mot')\n",
    "    case 2:\n",
    "        print('Hai')\n",
    "    case 3:\n",
    "        print('Ba')\n",
    "    case 4:\n",
    "        print('Bon')\n",
    "    case 5:\n",
    "        print('Nam')\n",
    "    case 6:\n",
    "        print('Sau')\n",
    "    case 7:\n",
    "        print('Bay')\n",
    "    case 8:\n",
    "        print('Tam')\n",
    "    case 9:\n",
    "        print('Chin')\n",
    "\n"
   ]
  },
  {
   "cell_type": "markdown",
   "id": "836ceb3e",
   "metadata": {},
   "source": [
    "## bai 10"
   ]
  },
  {
   "cell_type": "code",
   "execution_count": null,
   "id": "edf31956",
   "metadata": {},
   "outputs": [],
   "source": [
    "diem_thi=int(input('nhap diem thi: '))\n",
    "if diem_thi >= 4 :\n",
    "    print('qua mon')\n",
    "else:\n",
    "    print('hoc lai')"
   ]
  },
  {
   "cell_type": "markdown",
   "id": "1eb7e19a",
   "metadata": {},
   "source": [
    "## bai 11"
   ]
  },
  {
   "cell_type": "code",
   "execution_count": null,
   "id": "c7467cf4",
   "metadata": {},
   "outputs": [],
   "source": [
    "n=int(input('nhap nam sinh: '))\n",
    "hien_tai=2025\n",
    "so_tuoi = n-hien_tai\n",
    "if so_tuoi >= 18:\n",
    " print('du')\n",
    "else:\n",
    " print('ko du')"
   ]
  }
 ],
 "metadata": {
  "language_info": {
   "name": "python"
  }
 },
 "nbformat": 4,
 "nbformat_minor": 5
}
