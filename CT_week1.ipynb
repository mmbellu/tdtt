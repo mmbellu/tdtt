{
 "cells": [
  {
   "cell_type": "markdown",
   "id": "1c4dd623",
   "metadata": {},
   "source": [
    "# bai 1:"
   ]
  },
  {
   "cell_type": "code",
   "execution_count": 5,
   "id": "182445f2",
   "metadata": {},
   "outputs": [
    {
     "name": "stdout",
     "output_type": "stream",
     "text": [
      "Hello, World!\n"
     ]
    }
   ],
   "source": [
    "print(\"Hello, World!\")"
   ]
  },
  {
   "cell_type": "markdown",
   "id": "477a8429",
   "metadata": {},
   "source": [
    "# bai 2"
   ]
  },
  {
   "cell_type": "code",
   "execution_count": 6,
   "id": "652343d6",
   "metadata": {},
   "outputs": [
    {
     "name": "stdout",
     "output_type": "stream",
     "text": [
      "Hello, hung\n"
     ]
    }
   ],
   "source": [
    "name = input(\"your name: \")\n",
    "print(\"Hello,\",name)"
   ]
  },
  {
   "cell_type": "markdown",
   "id": "a6e22824",
   "metadata": {},
   "source": [
    "# bai 3"
   ]
  },
  {
   "cell_type": "code",
   "execution_count": 7,
   "id": "c7bc9865",
   "metadata": {},
   "outputs": [
    {
     "name": "stdout",
     "output_type": "stream",
     "text": [
      "tong a + b = 7\n",
      "hieu a - b = -1\n",
      "tich a x b = 12\n",
      "phan nguyen a/b = 0\n",
      "chia lay du a/b = 3 \n",
      "chia thuc lay den chu so thap phan so 2 cua a/b =0.75\n"
     ]
    }
   ],
   "source": [
    "a= int(input('nhap a:'))\n",
    "b= int(input('nhap b:'))\n",
    "print(f\"tong a + b = {a+b}\")\n",
    "print(f\"hieu a - b = {a-b}\")\n",
    "print(f\"tich a x b = {a*b}\")\n",
    "print(f\"phan nguyen a/b = {a//b}\")\n",
    "print(f\"chia lay du a/b = {a%b} \")\n",
    "print(f\"chia thuc lay den chu so thap phan so 2 cua a/b ={a/b:.2f}\")#hoac round(a/b,2)"
   ]
  },
  {
   "cell_type": "markdown",
   "id": "da7f5af9",
   "metadata": {},
   "source": [
    "# bai 4"
   ]
  },
  {
   "cell_type": "code",
   "execution_count": null,
   "id": "d84f63f6",
   "metadata": {},
   "outputs": [
    {
     "name": "stdout",
     "output_type": "stream",
     "text": [
      "diem trung binh la 4.2\n"
     ]
    }
   ],
   "source": [
    "scores = input('nhap 6 diem cach nhau boi space').split()\n",
    "a1,b1,c1,a2,b2,c2=map(float,scores)\n",
    "print(f\"diem trung binh la {round((a1+b1+c1 +(a2+b2)*2 + c2*3)/10,2)}\")"
   ]
  },
  {
   "cell_type": "markdown",
   "id": "ecbe5af6",
   "metadata": {},
   "source": [
    "# bai 5"
   ]
  },
  {
   "cell_type": "code",
   "execution_count": null,
   "id": "1cae58c5",
   "metadata": {},
   "outputs": [
    {
     "name": "stdout",
     "output_type": "stream",
     "text": [
      "a mu b:1\n"
     ]
    }
   ],
   "source": [
    "a,b= map(int,input('nhap hai so nguyen').split())\n",
    "print(f'a mu b:{a**b}')"
   ]
  },
  {
   "cell_type": "markdown",
   "id": "981b7f40",
   "metadata": {},
   "source": [
    "# bai 6"
   ]
  },
  {
   "cell_type": "code",
   "execution_count": 10,
   "id": "08665c1f",
   "metadata": {},
   "outputs": [
    {
     "name": "stdout",
     "output_type": "stream",
     "text": [
      "ki tu in hoa: A\n"
     ]
    }
   ],
   "source": [
    "while True:\n",
    "    a=input('nhap mot chu cai thuong:')\n",
    "    if len(a)==1 and  a.islower():\n",
    "        break\n",
    "    else:\n",
    "        print('nhap lai')\n",
    "\n",
    "b=ord(a)\n",
    "print(f'ki tu in hoa: {chr(b-32)}')"
   ]
  },
  {
   "cell_type": "markdown",
   "id": "0879f850",
   "metadata": {},
   "source": [
    "# bai 7"
   ]
  },
  {
   "cell_type": "code",
   "execution_count": 11,
   "id": "a30b7fd0",
   "metadata": {},
   "outputs": [
    {
     "name": "stdout",
     "output_type": "stream",
     "text": [
      "A=((13**2)*3)+5=512\n",
      "B=13**2*3+5=512\n"
     ]
    }
   ],
   "source": [
    "A=((13**2)*3)+5\n",
    "B=13**2*3+5\n",
    "print(f'A=((13**2)*3)+5={A}')\n",
    "print(f'B=13**2*3+5={B}')"
   ]
  },
  {
   "cell_type": "markdown",
   "id": "81413e2d",
   "metadata": {},
   "source": [
    "# bai 8"
   ]
  },
  {
   "cell_type": "code",
   "execution_count": null,
   "id": "baf3fcc3",
   "metadata": {},
   "outputs": [
    {
     "name": "stdout",
     "output_type": "stream",
     "text": [
      "nhiet do f : 73.4\n"
     ]
    }
   ],
   "source": [
    "C=int(input('nhap do C'))\n",
    "F=9/5*C+32\n",
    "print(f'nhiet do f : {F}')"
   ]
  },
  {
   "cell_type": "markdown",
   "id": "085116ec",
   "metadata": {},
   "source": [
    "# bai 9"
   ]
  },
  {
   "cell_type": "code",
   "execution_count": 13,
   "id": "8ae211d1",
   "metadata": {},
   "outputs": [
    {
     "name": "stdout",
     "output_type": "stream",
     "text": [
      "so tien phai tra : 42.20\n"
     ]
    }
   ],
   "source": [
    "x= int(input('nhap tien'))\n",
    "print(f'so tien phai tra : {10+x*1.4:.2f}')"
   ]
  },
  {
   "cell_type": "markdown",
   "id": "247dbea1",
   "metadata": {},
   "source": [
    "# bai 10"
   ]
  },
  {
   "cell_type": "code",
   "execution_count": 26,
   "id": "0fc0a77d",
   "metadata": {},
   "outputs": [
    {
     "name": "stdout",
     "output_type": "stream",
     "text": [
      "HI hi, hi and hi.\n"
     ]
    }
   ],
   "source": [
    "a,b,c= input(\"nhap ten\").split()\n",
    "print(f\"HI {c}, {b} and {a}.\")"
   ]
  },
  {
   "cell_type": "markdown",
   "id": "c72ea165",
   "metadata": {},
   "source": [
    "# bai 11"
   ]
  },
  {
   "cell_type": "code",
   "execution_count": 15,
   "id": "002917bf",
   "metadata": {},
   "outputs": [
    {
     "name": "stdout",
     "output_type": "stream",
     "text": [
      "giay=162240s\n"
     ]
    }
   ],
   "source": [
    "gio=int(input('nhap gio: '))\n",
    "phut=int(input('nhap phut'))\n",
    "print(f'giay={gio*3600+phut*60}s')"
   ]
  },
  {
   "cell_type": "markdown",
   "id": "3ff94e7f",
   "metadata": {},
   "source": [
    "# bai 12"
   ]
  },
  {
   "cell_type": "code",
   "execution_count": 16,
   "id": "fc851e66",
   "metadata": {},
   "outputs": [
    {
     "name": "stdout",
     "output_type": "stream",
     "text": [
      "Số miếng dán cần để phủ khối Rubik 4x4x4 là: 96\n"
     ]
    }
   ],
   "source": [
    "n = int(input(\"Nhập độ dài cạnh n của khối Rubik: \"))\n",
    "stickers = 6 * n * n\n",
    "print(f\"Số miếng dán cần để phủ khối Rubik {n}x{n}x{n} là: {stickers}\")"
   ]
  },
  {
   "cell_type": "markdown",
   "id": "3369fca4",
   "metadata": {},
   "source": [
    "# bai 13"
   ]
  },
  {
   "cell_type": "code",
   "execution_count": null,
   "id": "690cdc39",
   "metadata": {},
   "outputs": [
    {
     "name": "stdout",
     "output_type": "stream",
     "text": [
      "hang don vi cua tich a*b la : 8\n"
     ]
    }
   ],
   "source": [
    "a=int(input(\"nhap so nguyen\"))\n",
    "b=int(input(\"nhap so nguyen\"))\n",
    "print(f'hang don vi cua tich a*b la : {a*b%10}')"
   ]
  },
  {
   "cell_type": "markdown",
   "id": "ca7c9da5",
   "metadata": {},
   "source": [
    "# bai 14"
   ]
  },
  {
   "cell_type": "code",
   "execution_count": 18,
   "id": "874bfece",
   "metadata": {},
   "outputs": [
    {
     "name": "stdout",
     "output_type": "stream",
     "text": [
      "10 5\n"
     ]
    }
   ],
   "source": [
    "a = 5\n",
    "b = 10\n",
    "\n",
    "a = a + b\n",
    "b = a - b\n",
    "a = a - b\n",
    "\n",
    "print(a, b)"
   ]
  },
  {
   "cell_type": "markdown",
   "id": "72c50c55",
   "metadata": {},
   "source": [
    "#  bai 15"
   ]
  },
  {
   "cell_type": "code",
   "execution_count": 19,
   "id": "1af0ed5d",
   "metadata": {},
   "outputs": [
    {
     "name": "stdout",
     "output_type": "stream",
     "text": [
      "Số sao thứ 2 là: 13\n"
     ]
    }
   ],
   "source": [
    "n = int(input(\"Nhập số nguyên dương n: \"))\n",
    "star_number = 6 * n * (n - 1) + 1\n",
    "print(f\"Số sao thứ {n} là: {star_number}\")"
   ]
  },
  {
   "cell_type": "markdown",
   "id": "6a3c39c0",
   "metadata": {},
   "source": [
    "# bai 16"
   ]
  },
  {
   "cell_type": "code",
   "execution_count": 20,
   "id": "388be520",
   "metadata": {},
   "outputs": [
    {
     "name": "stdout",
     "output_type": "stream",
     "text": [
      "Spring\n",
      "Summer\n",
      "Autumn\n",
      "Winter\n"
     ]
    }
   ],
   "source": [
    "print(\"Spring\\nSummer\\nAutumn\\nWinter\")"
   ]
  },
  {
   "cell_type": "markdown",
   "id": "cd650611",
   "metadata": {},
   "source": [
    "# bai 17"
   ]
  },
  {
   "cell_type": "code",
   "execution_count": 21,
   "id": "6f77fffa",
   "metadata": {},
   "outputs": [
    {
     "name": "stdout",
     "output_type": "stream",
     "text": [
      "*\n",
      "**\n",
      "***\n"
     ]
    }
   ],
   "source": [
    "print(\"*\\n**\\n***\")"
   ]
  },
  {
   "cell_type": "markdown",
   "id": "c21aac96",
   "metadata": {},
   "source": [
    "# bai 18"
   ]
  },
  {
   "cell_type": "code",
   "execution_count": 22,
   "id": "77e9ed17",
   "metadata": {},
   "outputs": [
    {
     "name": "stdout",
     "output_type": "stream",
     "text": [
      "### # #   ### ###\n",
      " #  #   #  #  #\n",
      " #  #    # #  #\n",
      " #  #   #  #  #\n",
      " #  # #    #  #\n"
     ]
    }
   ],
   "source": [
    "print(\"### # #   ### ###\")  \n",
    "print(\" #  #   #  #  #\")\n",
    "print(\" #  #    # #  #\")\n",
    "print(\" #  #   #  #  #\")\n",
    "print(\" #  # #    #  #\")"
   ]
  },
  {
   "cell_type": "markdown",
   "id": "54c9ab0e",
   "metadata": {},
   "source": [
    "# bai 19"
   ]
  },
  {
   "cell_type": "code",
   "execution_count": 23,
   "id": "3016ec8d",
   "metadata": {},
   "outputs": [
    {
     "name": "stdout",
     "output_type": "stream",
     "text": [
      "Monday\n",
      "Tuesday\n",
      "Wednesday\n",
      "Thursday\n",
      "Friday\n",
      "Saturday\n",
      "Sunday\n"
     ]
    }
   ],
   "source": [
    "print(\"Monday\\nTuesday\\nWednesday\\nThursday\\nFriday\\nSaturday\\nSunday\")"
   ]
  },
  {
   "cell_type": "markdown",
   "id": "c4aba459",
   "metadata": {},
   "source": [
    "# bai 20"
   ]
  },
  {
   "cell_type": "code",
   "execution_count": 24,
   "id": "13bf47f8",
   "metadata": {},
   "outputs": [
    {
     "name": "stdout",
     "output_type": "stream",
     "text": [
      "January\n",
      "February\n",
      "March\n",
      "April\n",
      "May\n",
      "June\n",
      "July\n",
      "August\n",
      "September\n",
      "October\n",
      "November\n",
      "December\n"
     ]
    }
   ],
   "source": [
    "print(\"January\\nFebruary\\nMarch\\nApril\\nMay\\nJune\\nJuly\\nAugust\\nSeptember\\nOctober\\nNovember\\nDecember\")"
   ]
  },
  {
   "cell_type": "markdown",
   "id": "f3badd94",
   "metadata": {},
   "source": [
    "# bai 21"
   ]
  },
  {
   "cell_type": "code",
   "execution_count": 25,
   "id": "eeb4004a",
   "metadata": {},
   "outputs": [
    {
     "name": "stdout",
     "output_type": "stream",
     "text": [
      "Hello, World\n",
      "Hello, World\n",
      "Hello, World\n",
      "Hello, World\n",
      "Hello, World\n",
      "Hello, World\n",
      "Hello, World\n",
      "Hello, World\n",
      "Hello, World\n",
      "Hello, World\n"
     ]
    }
   ],
   "source": [
    "for k in range(10):\n",
    "    print(\"Hello, World\")"
   ]
  }
 ],
 "metadata": {
  "kernelspec": {
   "display_name": "Python 3",
   "language": "python",
   "name": "python3"
  },
  "language_info": {
   "codemirror_mode": {
    "name": "ipython",
    "version": 3
   },
   "file_extension": ".py",
   "mimetype": "text/x-python",
   "name": "python",
   "nbconvert_exporter": "python",
   "pygments_lexer": "ipython3",
   "version": "3.11.3"
  }
 },
 "nbformat": 4,
 "nbformat_minor": 5
}
